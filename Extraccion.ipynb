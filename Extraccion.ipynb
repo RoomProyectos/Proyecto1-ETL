{
 "cells": [
  {
   "cell_type": "code",
   "execution_count": 1,
   "metadata": {},
   "outputs": [],
   "source": [
    "import requests \n",
    "\n",
    "from bs4 import BeautifulSoup\n",
    "from datetime import datetime\n",
    "from selenium import webdriver\n",
    "from selenium.webdriver.common.by import By\n",
    "from pprint import pprint\n",
    "from time import sleep\n",
    "import pandas as pd\n",
    "import numpy as np"
   ]
  },
  {
   "cell_type": "code",
   "execution_count": 2,
   "metadata": {},
   "outputs": [],
   "source": [
    "def extrae_datos_meneos (lista_meneos):\n",
    "    datos = []\n",
    "    continuar = True\n",
    "    for meneo in lista_meneos:\n",
    "        dicc_aux = {}\n",
    "        \n",
    "        # Se obtiene en primer lugar el año\n",
    "        fecha_pub = meneo.find(\"div\", class_=\"news-submitted\").find_all(\"span\", class_=\"ts\")[1].text.split(\" \")[0]\n",
    "        año = datetime.strptime(fecha_pub,\"%d/%m/%Y\").year if len(fecha_pub) > 5 else 2024\n",
    "        \n",
    "        # Si el año es el 2023, se continúa con la importación (para omitir las de 2024)\n",
    "        if año == 2023:\n",
    "\n",
    "            ###################################   Comunidad (Temática) ############################################################\n",
    "            try:\n",
    "                dicc_aux[\"Comunidad\"] = meneo.find(\"a\", class_=\"subname\").text.strip()\n",
    "            except:\n",
    "                dicc_aux[\"Comunidad\"] = np.nan\n",
    "\n",
    "            ###################################    Usuario  ######################################################################\n",
    "            try:\n",
    "                dicc_aux[\"Usuario\"] = meneo.find(\"div\", class_=\"news-submitted\").find(\"img\")[\"alt\"].strip()\n",
    "            except:\n",
    "                dicc_aux[\"Usuario\"] = np.nan\n",
    "\n",
    "            ###################################    Medio    ######################################################################\n",
    "            try:\n",
    "                dicc_aux[\"Medio\"] = meneo.find(\"span\", class_=\"showmytitle\").text.strip()\n",
    "            except:            \n",
    "                dicc_aux[\"Medio\"] = \"meneame.net\"\n",
    "\n",
    "            ###################################    Fechas    ######################################################################    \n",
    "            try:\n",
    "                fechas = meneo.find(\"div\", class_=\"news-submitted\").find_all(\"span\", class_=\"ts\")\n",
    "                dicc_aux[\"Enviado\"] = fechas[0].text.strip()\n",
    "                dicc_aux[\"Publicado\"] = fechas[1].text.strip()\n",
    "            except:\n",
    "                dicc_aux[\"Enviado\"] = np.nan\n",
    "                dicc_aux[\"Publicado\"] = np.nan\n",
    "\n",
    "            ###################################    Titular    ####################################################################\n",
    "            try:\n",
    "                dicc_aux[\"Titular\"] = meneo.find(\"h2\").text.replace(\"\\n\", \" \").strip()\n",
    "            except:\n",
    "                dicc_aux[\"Titular\"] = np.nan\n",
    "\n",
    "            ###################################    Entradilla    ###################################################################\n",
    "            try:\n",
    "                dicc_aux[\"Entradilla\"] = meneo.find(\"div\", class_=\"news-content\").text.replace(\"\\n\", \" \").strip()\n",
    "            except:\n",
    "                dicc_aux[\"Entradilla\"] = np.nan\n",
    "        \n",
    "            ###################################    Votos    ######################################################################\n",
    "            try:\n",
    "                dicc_aux[\"Votos\"] = meneo.find(\"div\", class_=\"votes\").find(\"a\").text.strip()\n",
    "            except:\n",
    "                dicc_aux[\"Votos\"] = np.nan\n",
    "\n",
    "            ###################################    Click    ######################################################################\n",
    "            try:\n",
    "                dicc_aux[\"Clicks\"] = meneo.find(\"div\", class_=\"clics\").find(\"span\").text.strip()\n",
    "            except:\n",
    "                dicc_aux[\"Clicks\"] = np.nan\n",
    "\n",
    "            ###################################    Positivos    ###################################################################\n",
    "            try:\n",
    "                dicc_aux[\"Positivos\"] = meneo.find(\"span\", class_=\"positive-vote-number\").text.strip()\n",
    "            except:\n",
    "                dicc_aux[\"Positivos\"] = np.nan\n",
    "\n",
    "            ###################################    Votos Anónimos    ##############################################################\n",
    "            try:\n",
    "                dicc_aux[\"Anonimos\"] = meneo.find(\"span\", class_=\"anonymous-vote-number\").text.strip()\n",
    "            except:\n",
    "                dicc_aux[\"Anonimos\"] = np.nan\n",
    "\n",
    "            ###################################    Votos Negativos    ##############################################################\n",
    "            try:\n",
    "                dicc_aux[\"Negativos\"] = meneo.find(\"span\", class_=\"negative-vote-number\").text.strip()\n",
    "            except:\n",
    "                dicc_aux[\"Negativos\"] = np.nan\n",
    "\n",
    "            ###################################    Votos Comentarios    #############################################################\n",
    "            try:\n",
    "                dicc_aux[\"Comentarios\"] = meneo.find(\"a\", class_=\"comments\")[\"data-comments-number\"].strip()\n",
    "            except:\n",
    "                dicc_aux[\"Comentarios\"] = np.nan\n",
    "\n",
    "            ###################################    Karma    ########################################################################\n",
    "            try:\n",
    "                dicc_aux[\"Karma\"] = meneo.find(\"span\", class_=\"karma-number\").text.strip()\n",
    "            except:\n",
    "                dicc_aux[\"Karma\"] = np.nan\n",
    "\n",
    "            datos.append(dicc_aux)\n",
    "\n",
    "        # Si se ha alcanzado el año es 2022, se detendrá la importación\n",
    "        elif año == 2022:\n",
    "            continuar = False\n",
    "\n",
    "    return [datos, continuar]"
   ]
  },
  {
   "cell_type": "code",
   "execution_count": 5,
   "metadata": {},
   "outputs": [
    {
     "name": "stdout",
     "output_type": "stream",
     "text": [
      "Total paginas importadas: 615\n"
     ]
    }
   ],
   "source": [
    "######################################## BLOQUE PARA PRUEBAS ##############################################################\n",
    "\n",
    "# Para obtener todo el año 2023, empezar con la pagina 128 y eliminar la condición de \"contador\" en el bucle ####\n",
    "\n",
    "######################################## BLOQUE PARA PRUEBAS ##############################################################\n",
    "\n",
    "browser = webdriver.Chrome()\n",
    "pagina = 120\n",
    "lista_aux = []\n",
    "contador = 0\n",
    "continuar = True\n",
    "\n",
    "while contador < 10 and continuar == True:\n",
    "    try:\n",
    "        browser.get(f\"https://old.meneame.net/?page={pagina}\")        \n",
    "        Soup_pagina_meneos = BeautifulSoup(browser.page_source, \"html.parser\")\n",
    "        lista_meneos = Soup_pagina_meneos.find_all(\"div\", class_=\"news-summary\")\n",
    "        resultado = extrae_datos_meneos(lista_meneos)\n",
    "        lista_aux.extend(resultado[0])\n",
    "        continuar = resultado[1]\n",
    "        pagina += 1\n",
    "        contador += 1\n",
    "    except:\n",
    "        print(f\"Error en página {pagina}\")    \n",
    "\n",
    "print(f\"Total paginas procesadas: {contador}\")\n",
    "print(f\"Total meneos importados: {len(lista_aux)}\")\n",
    "\n",
    "browser.close()"
   ]
  },
  {
   "cell_type": "code",
   "execution_count": null,
   "metadata": {},
   "outputs": [],
   "source": [
    "df = pd.DataFrame(lista_aux)\n",
    "df"
   ]
  },
  {
   "cell_type": "code",
   "execution_count": 9,
   "metadata": {},
   "outputs": [],
   "source": [
    "\n",
    "df.to_csv('meneame1.csv')\n"
   ]
  },
  {
   "cell_type": "code",
   "execution_count": 10,
   "metadata": {},
   "outputs": [],
   "source": [
    "\n",
    "df.to_csv('meneame2.csv', index=False)\n"
   ]
  },
  {
   "cell_type": "code",
   "execution_count": 11,
   "metadata": {},
   "outputs": [],
   "source": [
    "\n",
    "df.to_csv('meneame3.csv', sep=';', encoding='utf-8', index=False)\n"
   ]
  }
 ],
 "metadata": {
  "kernelspec": {
   "display_name": "Python 3",
   "language": "python",
   "name": "python3"
  },
  "language_info": {
   "codemirror_mode": {
    "name": "ipython",
    "version": 3
   },
   "file_extension": ".py",
   "mimetype": "text/x-python",
   "name": "python",
   "nbconvert_exporter": "python",
   "pygments_lexer": "ipython3",
   "version": "3.12.2"
  }
 },
 "nbformat": 4,
 "nbformat_minor": 2
}
