{
 "cells": [
  {
   "cell_type": "code",
   "execution_count": 452,
   "metadata": {},
   "outputs": [],
   "source": [
    "import pandas as pd\n",
    "import datetime\n"
   ]
  },
  {
   "cell_type": "code",
   "execution_count": 453,
   "metadata": {},
   "outputs": [],
   "source": [
    "df = pd.read_csv(\"Data/Meneos_Iniciales_y_finales_2023.csv\")"
   ]
  },
  {
   "cell_type": "code",
   "execution_count": 454,
   "metadata": {},
   "outputs": [
    {
     "data": {
      "text/html": [
       "<div>\n",
       "<style scoped>\n",
       "    .dataframe tbody tr th:only-of-type {\n",
       "        vertical-align: middle;\n",
       "    }\n",
       "\n",
       "    .dataframe tbody tr th {\n",
       "        vertical-align: top;\n",
       "    }\n",
       "\n",
       "    .dataframe thead th {\n",
       "        text-align: right;\n",
       "    }\n",
       "</style>\n",
       "<table border=\"1\" class=\"dataframe\">\n",
       "  <thead>\n",
       "    <tr style=\"text-align: right;\">\n",
       "      <th></th>\n",
       "      <th>Indice</th>\n",
       "      <th>Comunidad</th>\n",
       "      <th>Usuario</th>\n",
       "      <th>Medio</th>\n",
       "      <th>Enviado</th>\n",
       "      <th>Publicado</th>\n",
       "      <th>Titular</th>\n",
       "      <th>Entradilla</th>\n",
       "      <th>Votos</th>\n",
       "      <th>Clicks</th>\n",
       "      <th>Positivos</th>\n",
       "      <th>Anonimos</th>\n",
       "      <th>Negativos</th>\n",
       "      <th>Comentarios</th>\n",
       "      <th>Karma</th>\n",
       "    </tr>\n",
       "  </thead>\n",
       "  <tbody>\n",
       "    <tr>\n",
       "      <th>0</th>\n",
       "      <td>0</td>\n",
       "      <td>politica</td>\n",
       "      <td>dmeijide</td>\n",
       "      <td>twitter.com</td>\n",
       "      <td>31/12/2023 12:05</td>\n",
       "      <td>31/12/2023 22:40</td>\n",
       "      <td>Yanis Varoufakis: Suspended el Apartheid Israe...</td>\n",
       "      <td>Como una vez suspendimos el Apartheid de Sudáf...</td>\n",
       "      <td>649</td>\n",
       "      <td>1237</td>\n",
       "      <td>276</td>\n",
       "      <td>373</td>\n",
       "      <td>9</td>\n",
       "      <td>57</td>\n",
       "      <td>399</td>\n",
       "    </tr>\n",
       "    <tr>\n",
       "      <th>1</th>\n",
       "      <td>1</td>\n",
       "      <td>actualidad</td>\n",
       "      <td>--557077--</td>\n",
       "      <td>europapress.es</td>\n",
       "      <td>31/12/2023 17:11</td>\n",
       "      <td>31/12/2023 21:25</td>\n",
       "      <td>Irán libera al español Santiago Sánchez Cogedo...</td>\n",
       "      <td>La Justicia de Irán ha puesto en libertad este...</td>\n",
       "      <td>280</td>\n",
       "      <td>1206</td>\n",
       "      <td>140</td>\n",
       "      <td>140</td>\n",
       "      <td>1</td>\n",
       "      <td>108</td>\n",
       "      <td>499</td>\n",
       "    </tr>\n",
       "    <tr>\n",
       "      <th>2</th>\n",
       "      <td>2</td>\n",
       "      <td>actualidad</td>\n",
       "      <td>tropezon</td>\n",
       "      <td>diariodecadiz.es</td>\n",
       "      <td>30/12/2023 23:31</td>\n",
       "      <td>31/12/2023 21:05</td>\n",
       "      <td>Estafan a un vecino de Vejer casi 10.000 euros...</td>\n",
       "      <td>Francisco Raúl Moreno Mera recibió tres mensaj...</td>\n",
       "      <td>236</td>\n",
       "      <td>4343</td>\n",
       "      <td>103</td>\n",
       "      <td>133</td>\n",
       "      <td>2</td>\n",
       "      <td>110</td>\n",
       "      <td>473</td>\n",
       "    </tr>\n",
       "  </tbody>\n",
       "</table>\n",
       "</div>"
      ],
      "text/plain": [
       "   Indice   Comunidad     Usuario             Medio           Enviado  \\\n",
       "0       0    politica    dmeijide       twitter.com  31/12/2023 12:05   \n",
       "1       1  actualidad  --557077--    europapress.es  31/12/2023 17:11   \n",
       "2       2  actualidad    tropezon  diariodecadiz.es  30/12/2023 23:31   \n",
       "\n",
       "          Publicado                                            Titular  \\\n",
       "0  31/12/2023 22:40  Yanis Varoufakis: Suspended el Apartheid Israe...   \n",
       "1  31/12/2023 21:25  Irán libera al español Santiago Sánchez Cogedo...   \n",
       "2  31/12/2023 21:05  Estafan a un vecino de Vejer casi 10.000 euros...   \n",
       "\n",
       "                                          Entradilla  Votos  Clicks  \\\n",
       "0  Como una vez suspendimos el Apartheid de Sudáf...    649    1237   \n",
       "1  La Justicia de Irán ha puesto en libertad este...    280    1206   \n",
       "2  Francisco Raúl Moreno Mera recibió tres mensaj...    236    4343   \n",
       "\n",
       "   Positivos  Anonimos  Negativos  Comentarios  Karma  \n",
       "0        276       373          9           57    399  \n",
       "1        140       140          1          108    499  \n",
       "2        103       133          2          110    473  "
      ]
     },
     "execution_count": 454,
     "metadata": {},
     "output_type": "execute_result"
    }
   ],
   "source": [
    "df.head(3)"
   ]
  },
  {
   "cell_type": "code",
   "execution_count": 455,
   "metadata": {},
   "outputs": [
    {
     "name": "stdout",
     "output_type": "stream",
     "text": [
      "<class 'pandas.core.frame.DataFrame'>\n",
      "RangeIndex: 336 entries, 0 to 335\n",
      "Data columns (total 15 columns):\n",
      " #   Column       Non-Null Count  Dtype \n",
      "---  ------       --------------  ----- \n",
      " 0   Indice       336 non-null    int64 \n",
      " 1   Comunidad    336 non-null    object\n",
      " 2   Usuario      336 non-null    object\n",
      " 3   Medio        336 non-null    object\n",
      " 4   Enviado      336 non-null    object\n",
      " 5   Publicado    336 non-null    object\n",
      " 6   Titular      336 non-null    object\n",
      " 7   Entradilla   336 non-null    object\n",
      " 8   Votos        336 non-null    int64 \n",
      " 9   Clicks       336 non-null    int64 \n",
      " 10  Positivos    336 non-null    int64 \n",
      " 11  Anonimos     336 non-null    int64 \n",
      " 12  Negativos    336 non-null    int64 \n",
      " 13  Comentarios  336 non-null    int64 \n",
      " 14  Karma        336 non-null    int64 \n",
      "dtypes: int64(8), object(7)\n",
      "memory usage: 39.5+ KB\n"
     ]
    }
   ],
   "source": [
    "df.info()"
   ]
  },
  {
   "cell_type": "code",
   "execution_count": null,
   "metadata": {},
   "outputs": [],
   "source": []
  },
  {
   "cell_type": "markdown",
   "metadata": {},
   "source": [
    "# HORA DE ENVÍO\n",
    "(obtenida de fecha envío) - Tipo de dato: datetime\n",
    "\n",
    "- OBTENER DE COLUMNA 'Enviado'\n",
    "- Cambiar a tipo de dato pd.datetime y quedarme solo con la hora"
   ]
  },
  {
   "cell_type": "code",
   "execution_count": 458,
   "metadata": {},
   "outputs": [],
   "source": [
    "df['Enviado'] = pd.to_datetime(df['Enviado'])\n",
    "df[\"Hora de envío\"] = df[\"Enviado\"].dt.time"
   ]
  },
  {
   "cell_type": "code",
   "execution_count": 443,
   "metadata": {},
   "outputs": [],
   "source": [
    "# ISSUE: en la columna 'Hora de envio' queda un 'objeto', no un 'datetime', BUT, necesitamos ese dato? Parece que no..."
   ]
  },
  {
   "cell_type": "code",
   "execution_count": 444,
   "metadata": {},
   "outputs": [],
   "source": [
    "df[\"Hora de envío\"] = pd.to_datetime(df[\"Enviado\"]).dt.time"
   ]
  },
  {
   "cell_type": "code",
   "execution_count": 445,
   "metadata": {},
   "outputs": [],
   "source": [
    "# El resultado de hacer esto es lo mismo que lo de arriba:\n",
    "\n",
    "# df['Enviado'] = df['Enviado'].astype('datetime64[ns]')\n",
    "# df[\"Hora de envío\"] = df[\"Enviado\"].dt.time                         # deja la hora como 'objeto'\n",
    "\n"
   ]
  },
  {
   "cell_type": "code",
   "execution_count": null,
   "metadata": {},
   "outputs": [],
   "source": [
    "# df['Enviado'].dtype         # dtype('<M8[ns]')\n",
    "# type(df['Enviado'][1])          # pandas._libs.tslibs.timestamps.Timestamp"
   ]
  },
  {
   "cell_type": "code",
   "execution_count": null,
   "metadata": {},
   "outputs": [],
   "source": []
  },
  {
   "cell_type": "markdown",
   "metadata": {},
   "source": [
    "## HORA DE PUBLICACIÓN\n",
    "(obtenida de fecha publicación) - Tipo de dato: datetime"
   ]
  },
  {
   "cell_type": "code",
   "execution_count": 459,
   "metadata": {},
   "outputs": [
    {
     "name": "stderr",
     "output_type": "stream",
     "text": [
      "C:\\Users\\Eva Téllez García\\AppData\\Local\\Temp\\ipykernel_24536\\1682566153.py:3: UserWarning: Parsing dates in %d/%m/%Y %H:%M format when dayfirst=False (the default) was specified. Pass `dayfirst=True` or specify a format to silence this warning.\n",
      "  df['Publicado'] = pd.to_datetime(df['Publicado'])\n"
     ]
    }
   ],
   "source": [
    "# COLUMNA HORA DE PUBLICACIÓN\n",
    "\n",
    "df['Publicado'] = pd.to_datetime(df['Publicado'])\n",
    "df[\"Hora de publicación\"] = df[\"Publicado\"].dt.time\n"
   ]
  },
  {
   "cell_type": "code",
   "execution_count": 450,
   "metadata": {},
   "outputs": [],
   "source": [
    "# df['Publicado'].dtype         # dtype('<M8[ns]')\n",
    "# type(df['Publicado'][1])      # pandas._libs.tslibs.timestamps.Timestamp"
   ]
  },
  {
   "cell_type": "code",
   "execution_count": null,
   "metadata": {},
   "outputs": [],
   "source": []
  },
  {
   "cell_type": "markdown",
   "metadata": {},
   "source": [
    "## DELAY\n",
    "(diferencia entre fecha envío y fecha publicación) - Tipo de dato: deltatime\n"
   ]
  },
  {
   "cell_type": "code",
   "execution_count": 460,
   "metadata": {},
   "outputs": [],
   "source": [
    "# Si no lo transformamos en la propia columna:\n",
    "\n",
    "# df['delay'] = pd.to_datetime(df['Publicado']) - pd.to_datetime(df['Enviado'])\n",
    "# df['delay'] = df['Publicado'].astype('datetime64[ns]') - df['Enviado'].astype('datetime64[ns]')"
   ]
  },
  {
   "cell_type": "code",
   "execution_count": 461,
   "metadata": {},
   "outputs": [],
   "source": [
    "df['delay'] = df['Publicado'] - df['Enviado']\n"
   ]
  },
  {
   "cell_type": "code",
   "execution_count": null,
   "metadata": {},
   "outputs": [],
   "source": []
  },
  {
   "cell_type": "markdown",
   "metadata": {},
   "source": [
    "## FRANJA HORARIA\n",
    "Franja horaria:\n",
    "- mañana (>= 06 & < 12), \n",
    "- mediodía (>=12 & <16), \n",
    "- tarde (>=16 < 21), \n",
    "- noche (>= 21 < 00), \n",
    "- madrugada (>=00 & < 06)   \n",
    "Tipo de dato: object\n"
   ]
  },
  {
   "cell_type": "code",
   "execution_count": 462,
   "metadata": {},
   "outputs": [],
   "source": [
    "def franja_horaria(hora):\n",
    "    \n",
    "    if (hora >= datetime.datetime(year=hora.year, month=hora.month, day=hora.day, hour=6)) & (hora < datetime.datetime(year=hora.year, month=hora.month, day=hora.day, hour=12)):\n",
    "        return \"mañana\"\n",
    "    elif (hora >= datetime.datetime(year=hora.year, month=hora.month, day=hora.day, hour=12)) & (hora < datetime.datetime(year=hora.year, month=hora.month, day=hora.day, hour=16)):\n",
    "        return \"mediodía\"\n",
    "    elif (hora >= datetime.datetime(year=hora.year, month=hora.month, day=hora.day, hour=16)) & (hora < datetime.datetime(year=hora.year, month=hora.month, day=hora.day, hour=21)):\n",
    "        return \"tarde\"\n",
    "    elif (hora >= datetime.datetime(year=hora.year, month=hora.month, day=hora.day, hour=21)) & (hora <= datetime.datetime(year=hora.year, month=hora.month, day=hora.day, hour=23, minute=59)):\n",
    "        return \"noche\"\n",
    "    elif (hora >= datetime.datetime(year=hora.year, month=hora.month, day=hora.day, hour=00)) & (hora < datetime.datetime(year=hora.year, month=hora.month, day=hora.day, hour=6)):\n",
    "    # else:\n",
    "        return \"madrugada\"\n",
    "    \n",
    "# hora es un objeto Timestamp('2023-12-31 21:25:00') // type: pandas._libs.tslibs.timestamps.Timestamp\n",
    "    # este tipo de objeto, de pandas, se puede comparar con los datetime.datetime (de lib datetime)\n",
    "    \n",
    "    # que coja el date de la misma fecha/hora de Publicado y lg se le añade la hora. Para convertirlo todo a datetime.datetime\n"
   ]
  },
  {
   "cell_type": "code",
   "execution_count": 432,
   "metadata": {},
   "outputs": [],
   "source": [
    "# así funciona bien. El problema está en poner la franja noche, de límite <00. No sé por qué :/\n",
    "\n",
    "def franja_horaria(hora):\n",
    "    \n",
    "    if datetime.datetime(year=hora.year, month=hora.month, day=hora.day, hour=6) <= hora < datetime.datetime(year=hora.year, month=hora.month, day=hora.day, hour=12):\n",
    "        return \"mañana\"\n",
    "    elif datetime.datetime(year=hora.year, month=hora.month, day=hora.day, hour=12) <= hora < datetime.datetime(year=hora.year, month=hora.month, day=hora.day, hour=16):\n",
    "        return \"mediodía\"\n",
    "    elif datetime.datetime(year=hora.year, month=hora.month, day=hora.day, hour=16) <= hora < datetime.datetime(year=hora.year, month=hora.month, day=hora.day, hour=21):\n",
    "        return \"tarde\"\n",
    "    elif datetime.datetime(year=hora.year, month=hora.month, day=hora.day, hour=21) <= hora <= datetime.datetime(year=hora.year, month=hora.month, day=hora.day, hour=23, minute=59):\n",
    "        return \"noche\"\n",
    "    elif datetime.datetime(year=hora.year, month=hora.month, day=hora.day, hour=00) <= hora < datetime.datetime(year=hora.year, month=hora.month, day=hora.day, hour=6):\n",
    "        return \"madrugada\""
   ]
  },
  {
   "cell_type": "code",
   "execution_count": 463,
   "metadata": {},
   "outputs": [
    {
     "data": {
      "text/html": [
       "<div>\n",
       "<style scoped>\n",
       "    .dataframe tbody tr th:only-of-type {\n",
       "        vertical-align: middle;\n",
       "    }\n",
       "\n",
       "    .dataframe tbody tr th {\n",
       "        vertical-align: top;\n",
       "    }\n",
       "\n",
       "    .dataframe thead th {\n",
       "        text-align: right;\n",
       "    }\n",
       "</style>\n",
       "<table border=\"1\" class=\"dataframe\">\n",
       "  <thead>\n",
       "    <tr style=\"text-align: right;\">\n",
       "      <th></th>\n",
       "      <th>Publicado</th>\n",
       "      <th>Franja Horaria</th>\n",
       "    </tr>\n",
       "  </thead>\n",
       "  <tbody>\n",
       "    <tr>\n",
       "      <th>296</th>\n",
       "      <td>2023-01-02 05:55:00</td>\n",
       "      <td>madrugada</td>\n",
       "    </tr>\n",
       "    <tr>\n",
       "      <th>297</th>\n",
       "      <td>2023-01-02 04:40:00</td>\n",
       "      <td>madrugada</td>\n",
       "    </tr>\n",
       "    <tr>\n",
       "      <th>298</th>\n",
       "      <td>2023-01-02 03:15:00</td>\n",
       "      <td>madrugada</td>\n",
       "    </tr>\n",
       "    <tr>\n",
       "      <th>299</th>\n",
       "      <td>2023-01-02 02:45:00</td>\n",
       "      <td>madrugada</td>\n",
       "    </tr>\n",
       "    <tr>\n",
       "      <th>300</th>\n",
       "      <td>2023-01-02 01:50:00</td>\n",
       "      <td>madrugada</td>\n",
       "    </tr>\n",
       "    <tr>\n",
       "      <th>301</th>\n",
       "      <td>2023-01-02 00:20:00</td>\n",
       "      <td>madrugada</td>\n",
       "    </tr>\n",
       "    <tr>\n",
       "      <th>302</th>\n",
       "      <td>2023-01-01 23:55:00</td>\n",
       "      <td>noche</td>\n",
       "    </tr>\n",
       "    <tr>\n",
       "      <th>303</th>\n",
       "      <td>2023-01-01 23:05:00</td>\n",
       "      <td>noche</td>\n",
       "    </tr>\n",
       "    <tr>\n",
       "      <th>304</th>\n",
       "      <td>2023-01-01 22:30:00</td>\n",
       "      <td>noche</td>\n",
       "    </tr>\n",
       "    <tr>\n",
       "      <th>305</th>\n",
       "      <td>2023-01-01 21:40:00</td>\n",
       "      <td>noche</td>\n",
       "    </tr>\n",
       "    <tr>\n",
       "      <th>306</th>\n",
       "      <td>2023-01-01 21:05:00</td>\n",
       "      <td>noche</td>\n",
       "    </tr>\n",
       "    <tr>\n",
       "      <th>307</th>\n",
       "      <td>2023-01-01 20:35:00</td>\n",
       "      <td>tarde</td>\n",
       "    </tr>\n",
       "    <tr>\n",
       "      <th>308</th>\n",
       "      <td>2023-01-01 20:15:00</td>\n",
       "      <td>tarde</td>\n",
       "    </tr>\n",
       "    <tr>\n",
       "      <th>309</th>\n",
       "      <td>2023-01-01 19:20:00</td>\n",
       "      <td>tarde</td>\n",
       "    </tr>\n",
       "    <tr>\n",
       "      <th>310</th>\n",
       "      <td>2023-01-01 19:00:00</td>\n",
       "      <td>tarde</td>\n",
       "    </tr>\n",
       "    <tr>\n",
       "      <th>311</th>\n",
       "      <td>2023-01-01 19:00:00</td>\n",
       "      <td>tarde</td>\n",
       "    </tr>\n",
       "    <tr>\n",
       "      <th>312</th>\n",
       "      <td>2023-01-01 18:25:00</td>\n",
       "      <td>tarde</td>\n",
       "    </tr>\n",
       "    <tr>\n",
       "      <th>313</th>\n",
       "      <td>2023-01-01 17:50:00</td>\n",
       "      <td>tarde</td>\n",
       "    </tr>\n",
       "    <tr>\n",
       "      <th>314</th>\n",
       "      <td>2023-01-01 17:20:00</td>\n",
       "      <td>tarde</td>\n",
       "    </tr>\n",
       "    <tr>\n",
       "      <th>315</th>\n",
       "      <td>2023-01-01 16:35:00</td>\n",
       "      <td>tarde</td>\n",
       "    </tr>\n",
       "    <tr>\n",
       "      <th>316</th>\n",
       "      <td>2023-01-01 15:55:00</td>\n",
       "      <td>mediodía</td>\n",
       "    </tr>\n",
       "    <tr>\n",
       "      <th>317</th>\n",
       "      <td>2023-01-01 15:45:00</td>\n",
       "      <td>mediodía</td>\n",
       "    </tr>\n",
       "    <tr>\n",
       "      <th>318</th>\n",
       "      <td>2023-01-01 15:35:00</td>\n",
       "      <td>mediodía</td>\n",
       "    </tr>\n",
       "    <tr>\n",
       "      <th>319</th>\n",
       "      <td>2023-01-01 14:25:00</td>\n",
       "      <td>mediodía</td>\n",
       "    </tr>\n",
       "    <tr>\n",
       "      <th>320</th>\n",
       "      <td>2023-01-01 14:20:00</td>\n",
       "      <td>mediodía</td>\n",
       "    </tr>\n",
       "    <tr>\n",
       "      <th>321</th>\n",
       "      <td>2023-01-01 13:25:00</td>\n",
       "      <td>mediodía</td>\n",
       "    </tr>\n",
       "    <tr>\n",
       "      <th>322</th>\n",
       "      <td>2023-01-01 12:45:00</td>\n",
       "      <td>mediodía</td>\n",
       "    </tr>\n",
       "    <tr>\n",
       "      <th>323</th>\n",
       "      <td>2023-01-01 12:40:00</td>\n",
       "      <td>mediodía</td>\n",
       "    </tr>\n",
       "    <tr>\n",
       "      <th>324</th>\n",
       "      <td>2023-01-01 11:55:00</td>\n",
       "      <td>mañana</td>\n",
       "    </tr>\n",
       "    <tr>\n",
       "      <th>325</th>\n",
       "      <td>2023-01-01 11:55:00</td>\n",
       "      <td>mañana</td>\n",
       "    </tr>\n",
       "    <tr>\n",
       "      <th>326</th>\n",
       "      <td>2023-01-01 11:45:00</td>\n",
       "      <td>mañana</td>\n",
       "    </tr>\n",
       "    <tr>\n",
       "      <th>327</th>\n",
       "      <td>2023-01-01 10:20:00</td>\n",
       "      <td>mañana</td>\n",
       "    </tr>\n",
       "    <tr>\n",
       "      <th>328</th>\n",
       "      <td>2023-01-01 09:30:00</td>\n",
       "      <td>mañana</td>\n",
       "    </tr>\n",
       "    <tr>\n",
       "      <th>329</th>\n",
       "      <td>2023-01-01 06:45:00</td>\n",
       "      <td>mañana</td>\n",
       "    </tr>\n",
       "    <tr>\n",
       "      <th>330</th>\n",
       "      <td>2023-01-01 05:05:00</td>\n",
       "      <td>madrugada</td>\n",
       "    </tr>\n",
       "    <tr>\n",
       "      <th>331</th>\n",
       "      <td>2023-01-01 03:25:00</td>\n",
       "      <td>madrugada</td>\n",
       "    </tr>\n",
       "    <tr>\n",
       "      <th>332</th>\n",
       "      <td>2023-01-01 02:30:00</td>\n",
       "      <td>madrugada</td>\n",
       "    </tr>\n",
       "    <tr>\n",
       "      <th>333</th>\n",
       "      <td>2023-01-01 01:25:00</td>\n",
       "      <td>madrugada</td>\n",
       "    </tr>\n",
       "    <tr>\n",
       "      <th>334</th>\n",
       "      <td>2023-01-01 00:55:00</td>\n",
       "      <td>madrugada</td>\n",
       "    </tr>\n",
       "    <tr>\n",
       "      <th>335</th>\n",
       "      <td>2023-01-01 00:30:00</td>\n",
       "      <td>madrugada</td>\n",
       "    </tr>\n",
       "  </tbody>\n",
       "</table>\n",
       "</div>"
      ],
      "text/plain": [
       "              Publicado Franja Horaria\n",
       "296 2023-01-02 05:55:00      madrugada\n",
       "297 2023-01-02 04:40:00      madrugada\n",
       "298 2023-01-02 03:15:00      madrugada\n",
       "299 2023-01-02 02:45:00      madrugada\n",
       "300 2023-01-02 01:50:00      madrugada\n",
       "301 2023-01-02 00:20:00      madrugada\n",
       "302 2023-01-01 23:55:00          noche\n",
       "303 2023-01-01 23:05:00          noche\n",
       "304 2023-01-01 22:30:00          noche\n",
       "305 2023-01-01 21:40:00          noche\n",
       "306 2023-01-01 21:05:00          noche\n",
       "307 2023-01-01 20:35:00          tarde\n",
       "308 2023-01-01 20:15:00          tarde\n",
       "309 2023-01-01 19:20:00          tarde\n",
       "310 2023-01-01 19:00:00          tarde\n",
       "311 2023-01-01 19:00:00          tarde\n",
       "312 2023-01-01 18:25:00          tarde\n",
       "313 2023-01-01 17:50:00          tarde\n",
       "314 2023-01-01 17:20:00          tarde\n",
       "315 2023-01-01 16:35:00          tarde\n",
       "316 2023-01-01 15:55:00       mediodía\n",
       "317 2023-01-01 15:45:00       mediodía\n",
       "318 2023-01-01 15:35:00       mediodía\n",
       "319 2023-01-01 14:25:00       mediodía\n",
       "320 2023-01-01 14:20:00       mediodía\n",
       "321 2023-01-01 13:25:00       mediodía\n",
       "322 2023-01-01 12:45:00       mediodía\n",
       "323 2023-01-01 12:40:00       mediodía\n",
       "324 2023-01-01 11:55:00         mañana\n",
       "325 2023-01-01 11:55:00         mañana\n",
       "326 2023-01-01 11:45:00         mañana\n",
       "327 2023-01-01 10:20:00         mañana\n",
       "328 2023-01-01 09:30:00         mañana\n",
       "329 2023-01-01 06:45:00         mañana\n",
       "330 2023-01-01 05:05:00      madrugada\n",
       "331 2023-01-01 03:25:00      madrugada\n",
       "332 2023-01-01 02:30:00      madrugada\n",
       "333 2023-01-01 01:25:00      madrugada\n",
       "334 2023-01-01 00:55:00      madrugada\n",
       "335 2023-01-01 00:30:00      madrugada"
      ]
     },
     "execution_count": 463,
     "metadata": {},
     "output_type": "execute_result"
    }
   ],
   "source": [
    "df[\"Franja Horaria\"] = df[\"Publicado\"].apply(lambda x : franja_horaria(x))\n",
    "# Si no tuviéramos la columna 'Publicado' ya en formato datetime64: df[\"Franja Horaria\"] = pd.to_datetime(df['Publicado']).apply(lambda x : franja_horaria(x))\n",
    "\n",
    "df[['Publicado', 'Franja Horaria']].tail(40)"
   ]
  },
  {
   "cell_type": "code",
   "execution_count": 464,
   "metadata": {},
   "outputs": [
    {
     "data": {
      "text/plain": [
       "array(['noche', 'tarde', 'mediodía', 'mañana', 'madrugada'], dtype=object)"
      ]
     },
     "execution_count": 464,
     "metadata": {},
     "output_type": "execute_result"
    }
   ],
   "source": [
    "df['Franja Horaria'].unique()"
   ]
  },
  {
   "cell_type": "code",
   "execution_count": 465,
   "metadata": {},
   "outputs": [
    {
     "data": {
      "text/plain": [
       "dtype('O')"
      ]
     },
     "execution_count": 465,
     "metadata": {},
     "output_type": "execute_result"
    }
   ],
   "source": [
    "df['Franja Horaria'].dtype"
   ]
  },
  {
   "cell_type": "code",
   "execution_count": null,
   "metadata": {},
   "outputs": [],
   "source": []
  },
  {
   "cell_type": "code",
   "execution_count": 393,
   "metadata": {},
   "outputs": [
    {
     "data": {
      "text/plain": [
       "False"
      ]
     },
     "execution_count": 393,
     "metadata": {},
     "output_type": "execute_result"
    }
   ],
   "source": [
    "# df['Publicado'][1].timestamp\n",
    "\n",
    "df['Publicado'][1] > datetime.datetime(year=df['Publicado'][1].year, month=df['Publicado'][1].month, day=df['Publicado'][1].day, hour=23)"
   ]
  },
  {
   "cell_type": "code",
   "execution_count": 420,
   "metadata": {},
   "outputs": [
    {
     "name": "stdout",
     "output_type": "stream",
     "text": [
      "2023-12-31 00:01:00\n"
     ]
    }
   ],
   "source": [
    "print(datetime.datetime(year=df['Publicado'][1].year, month=df['Publicado'][1].month, day=df['Publicado'][1].day, hour=00, minute=1))"
   ]
  },
  {
   "cell_type": "code",
   "execution_count": 423,
   "metadata": {},
   "outputs": [
    {
     "data": {
      "text/plain": [
       "datetime.datetime(2023, 12, 31, 0, 0)"
      ]
     },
     "execution_count": 423,
     "metadata": {},
     "output_type": "execute_result"
    }
   ],
   "source": [
    "fecha = datetime.datetime(year=df['Publicado'][1].year, month=df['Publicado'][1].month, day=df['Publicado'][1].day)\n",
    "fecha"
   ]
  },
  {
   "cell_type": "code",
   "execution_count": null,
   "metadata": {},
   "outputs": [],
   "source": []
  },
  {
   "cell_type": "code",
   "execution_count": null,
   "metadata": {},
   "outputs": [],
   "source": []
  },
  {
   "cell_type": "code",
   "execution_count": null,
   "metadata": {},
   "outputs": [],
   "source": []
  }
 ],
 "metadata": {
  "kernelspec": {
   "display_name": "base",
   "language": "python",
   "name": "python3"
  },
  "language_info": {
   "codemirror_mode": {
    "name": "ipython",
    "version": 3
   },
   "file_extension": ".py",
   "mimetype": "text/x-python",
   "name": "python",
   "nbconvert_exporter": "python",
   "pygments_lexer": "ipython3",
   "version": "3.11.5"
  }
 },
 "nbformat": 4,
 "nbformat_minor": 2
}
