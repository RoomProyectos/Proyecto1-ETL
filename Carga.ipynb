{
 "cells": [
  {
   "cell_type": "code",
   "execution_count": 16,
   "metadata": {},
   "outputs": [],
   "source": [
    "import numpy as np\n",
    "import pandas as pd\n",
    "from time import sleep\n",
    "\n",
    "import requests\n",
    "\n",
    "from pprint import pprint\n",
    "import os"
   ]
  },
  {
   "cell_type": "code",
   "execution_count": 30,
   "metadata": {},
   "outputs": [],
   "source": [
    "TOKEN =  os.getenv(\"AIRTABLE_TOKEN\") # Usuario\n",
    "\n",
    "BASE_ID = \"appOnz4LtIdKAOYfo\" # Base\n",
    "\n",
    "TABLE_ID = \"\" # Tabla:\n",
    "\n",
    "airtable_base_url = \"https://api.airtable.com/v0\"\n",
    "\n",
    "# Headers\n",
    "headers = {\"Authorization\" : f\"Bearer {TOKEN}\",\n",
    "           \"Content-Type\"  : \"application/json\"}"
   ]
  },
  {
   "cell_type": "code",
   "execution_count": 18,
   "metadata": {},
   "outputs": [],
   "source": [
    "df = pd.read_csv(\"125noticias.csv\")\n",
    "df.rename({\"Unnamed: 0\":\"Indice\"}, inplace=True, axis=1)"
   ]
  },
  {
   "cell_type": "code",
   "execution_count": 35,
   "metadata": {},
   "outputs": [
    {
     "data": {
      "text/plain": [
       "{'description': 'Listado de meneos de la portada general de 2023',\n",
       " 'fields': [{'name': 'Indice', 'type': 'singleLineText'},\n",
       "  {'name': 'Comunidad', 'type': 'singleLineText'},\n",
       "  {'name': 'Usuario', 'type': 'singleLineText'},\n",
       "  {'name': 'Medio', 'type': 'singleLineText'},\n",
       "  {'name': 'Enviado', 'type': 'singleLineText'},\n",
       "  {'name': 'Publicado', 'type': 'singleLineText'},\n",
       "  {'name': 'Titular', 'type': 'singleLineText'},\n",
       "  {'name': 'Entradilla', 'type': 'singleLineText'},\n",
       "  {'name': 'Votos', 'type': 'singleLineText'},\n",
       "  {'name': 'Clicks', 'type': 'singleLineText'},\n",
       "  {'name': 'Positivos', 'type': 'singleLineText'},\n",
       "  {'name': 'Anonimos', 'type': 'singleLineText'},\n",
       "  {'name': 'Negativos', 'type': 'singleLineText'},\n",
       "  {'name': 'Comentarios', 'type': 'singleLineText'},\n",
       "  {'name': 'Karma', 'type': 'singleLineText'}],\n",
       " 'name': 'Meneos2023'}"
      ]
     },
     "execution_count": 35,
     "metadata": {},
     "output_type": "execute_result"
    }
   ],
   "source": [
    "nombres_columnas = {\"description\": \"Listado de meneos de la portada general de 2023\",\n",
    "                    \"fields\": [{\"name\" : columna, \"type\": \"singleLineText\"} for columna in df.columns],\n",
    "                    \"name\": \"Meneos2023\"}\n",
    "    \n",
    "nombres_columnas"
   ]
  },
  {
   "cell_type": "code",
   "execution_count": 36,
   "metadata": {},
   "outputs": [
    {
     "name": "stdout",
     "output_type": "stream",
     "text": [
      "endpoint: https://api.airtable.com/v0/meta/bases/appOnz4LtIdKAOYfo/tables\n",
      "response: 200\n",
      "------------------------------------------------------------------------------------------------------------------------\n",
      "{'id': 'tblTskvFiXX74PMj1',\n",
      " 'name': 'Meneos2023',\n",
      " 'description': 'Listado de meneos de la portada general de 2023',\n",
      " 'primaryFieldId': 'fldnS3dIO7pia7jbO',\n",
      " 'fields': [{'type': 'singleLineText',\n",
      "             'id': 'fldnS3dIO7pia7jbO',\n",
      "             'name': 'Indice'},\n",
      "            {'type': 'singleLineText',\n",
      "             'id': 'fldhOfPY6nRN1gFUu',\n",
      "             'name': 'Comunidad'},\n",
      "            {'type': 'singleLineText',\n",
      "             'id': 'fldFcIsJlcuqRwFgC',\n",
      "             'name': 'Usuario'},\n",
      "            {'type': 'singleLineText',\n",
      "             'id': 'fldmVUtnWFFsYWfY2',\n",
      "             'name': 'Medio'},\n",
      "            {'type': 'singleLineText',\n",
      "             'id': 'fldC9n0eQxHi031F1',\n",
      "             'name': 'Enviado'},\n",
      "            {'type': 'singleLineText',\n",
      "             'id': 'fldjsRmc2qrl615cR',\n",
      "             'name': 'Publicado'},\n",
      "            {'type': 'singleLineText',\n",
      "             'id': 'fld7CxNJTeGo6T6VM',\n",
      "             'name': 'Titular'},\n",
      "            {'type': 'singleLineText',\n",
      "             'id': 'fldkrXCjIT4PKZ6nU',\n",
      "             'name': 'Entradilla'},\n",
      "            {'type': 'singleLineText',\n",
      "             'id': 'fldd3ktpHNc4vsU8t',\n",
      "             'name': 'Votos'},\n",
      "            {'type': 'singleLineText',\n",
      "             'id': 'fldAIMLGaBwpRO1fM',\n",
      "             'name': 'Clicks'},\n",
      "            {'type': 'singleLineText',\n",
      "             'id': 'fldJJyGqVZYkNu968',\n",
      "             'name': 'Positivos'},\n",
      "            {'type': 'singleLineText',\n",
      "             'id': 'fldQf1cnDLETDxeUn',\n",
      "             'name': 'Anonimos'},\n",
      "            {'type': 'singleLineText',\n",
      "             'id': 'fldEs3gI8ACV1sZwJ',\n",
      "             'name': 'Negativos'},\n",
      "            {'type': 'singleLineText',\n",
      "             'id': 'fldZbGrgNUO82P6X1',\n",
      "             'name': 'Comentarios'},\n",
      "            {'type': 'singleLineText',\n",
      "             'id': 'fldKLrXVcVb1ocqfo',\n",
      "             'name': 'Karma'}],\n",
      " 'views': [{'id': 'viwDVKGHS9b4jKaRn', 'name': 'Grid view', 'type': 'grid'}]}\n",
      "------------------------------------------------------------------------------------------------------------------------\n"
     ]
    }
   ],
   "source": [
    "endpoint_crea_tabla = f\"https://api.airtable.com/v0/meta/bases/{BASE_ID}/tables\"\n",
    "\n",
    "nombres_columnas = {\"description\": \"Listado de meneos de la portada general de 2023\",\n",
    "                    \"fields\": [{\"name\" : columna, \"type\": \"singleLineText\"} for columna in df.columns],\n",
    "                    \"name\": \"Meneos2023\"}\n",
    "    \n",
    "response = requests.post(url = endpoint_crea_tabla, json= nombres_columnas, headers = headers)\n",
    "\n",
    "print(f\"endpoint: {response.url}\")\n",
    "print(f\"response: {response.status_code}\")\n",
    "print(\"-\"*120)\n",
    "pprint(response.json(), sort_dicts = False)\n",
    "print(\"-\"*120)"
   ]
  }
 ],
 "metadata": {
  "kernelspec": {
   "display_name": "Python 3",
   "language": "python",
   "name": "python3"
  },
  "language_info": {
   "codemirror_mode": {
    "name": "ipython",
    "version": 3
   },
   "file_extension": ".py",
   "mimetype": "text/x-python",
   "name": "python",
   "nbconvert_exporter": "python",
   "pygments_lexer": "ipython3",
   "version": "3.12.2"
  }
 },
 "nbformat": 4,
 "nbformat_minor": 2
}
