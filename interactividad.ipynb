{
 "cells": [
  {
   "cell_type": "code",
   "execution_count": 40,
   "metadata": {},
   "outputs": [],
   "source": [
    "import pandas as pd\n",
    "import numpy\n",
    "import plotly.express as px\n",
    "import matplotlib.pyplot as plt"
   ]
  },
  {
   "cell_type": "code",
   "execution_count": 41,
   "metadata": {},
   "outputs": [
    {
     "data": {
      "text/html": [
       "<div>\n",
       "<style scoped>\n",
       "    .dataframe tbody tr th:only-of-type {\n",
       "        vertical-align: middle;\n",
       "    }\n",
       "\n",
       "    .dataframe tbody tr th {\n",
       "        vertical-align: top;\n",
       "    }\n",
       "\n",
       "    .dataframe thead th {\n",
       "        text-align: right;\n",
       "    }\n",
       "</style>\n",
       "<table border=\"1\" class=\"dataframe\">\n",
       "  <thead>\n",
       "    <tr style=\"text-align: right;\">\n",
       "      <th></th>\n",
       "      <th>Comunidad</th>\n",
       "      <th>Meneos</th>\n",
       "      <th>Clicks</th>\n",
       "      <th>Positivos</th>\n",
       "      <th>Anonimos</th>\n",
       "      <th>Negativos</th>\n",
       "      <th>Comentarios</th>\n",
       "      <th>Karma</th>\n",
       "      <th>Votos</th>\n",
       "    </tr>\n",
       "  </thead>\n",
       "  <tbody>\n",
       "    <tr>\n",
       "      <th>0</th>\n",
       "      <td>Abuso_Animal</td>\n",
       "      <td>416.0</td>\n",
       "      <td>4852.0</td>\n",
       "      <td>196.0</td>\n",
       "      <td>219.0</td>\n",
       "      <td>2.0</td>\n",
       "      <td>63.0</td>\n",
       "      <td>416.0</td>\n",
       "      <td>418.0</td>\n",
       "    </tr>\n",
       "    <tr>\n",
       "      <th>1</th>\n",
       "      <td>Artículos</td>\n",
       "      <td>376.0</td>\n",
       "      <td>4132.0</td>\n",
       "      <td>181.0</td>\n",
       "      <td>195.0</td>\n",
       "      <td>6.0</td>\n",
       "      <td>95.0</td>\n",
       "      <td>392.0</td>\n",
       "      <td>382.0</td>\n",
       "    </tr>\n",
       "    <tr>\n",
       "      <th>2</th>\n",
       "      <td>Botánica</td>\n",
       "      <td>205.0</td>\n",
       "      <td>5648.0</td>\n",
       "      <td>100.0</td>\n",
       "      <td>106.0</td>\n",
       "      <td>6.0</td>\n",
       "      <td>36.0</td>\n",
       "      <td>430.0</td>\n",
       "      <td>211.0</td>\n",
       "    </tr>\n",
       "    <tr>\n",
       "      <th>3</th>\n",
       "      <td>Bulos</td>\n",
       "      <td>737.0</td>\n",
       "      <td>3543.0</td>\n",
       "      <td>288.0</td>\n",
       "      <td>449.0</td>\n",
       "      <td>14.0</td>\n",
       "      <td>81.0</td>\n",
       "      <td>477.0</td>\n",
       "      <td>751.0</td>\n",
       "    </tr>\n",
       "    <tr>\n",
       "      <th>4</th>\n",
       "      <td>CastillaLeón</td>\n",
       "      <td>186.0</td>\n",
       "      <td>1879.0</td>\n",
       "      <td>89.0</td>\n",
       "      <td>97.0</td>\n",
       "      <td>0.0</td>\n",
       "      <td>16.0</td>\n",
       "      <td>323.0</td>\n",
       "      <td>186.0</td>\n",
       "    </tr>\n",
       "    <tr>\n",
       "      <th>5</th>\n",
       "      <td>Chorridolias</td>\n",
       "      <td>234.0</td>\n",
       "      <td>3132.0</td>\n",
       "      <td>133.0</td>\n",
       "      <td>101.0</td>\n",
       "      <td>0.0</td>\n",
       "      <td>23.0</td>\n",
       "      <td>438.0</td>\n",
       "      <td>234.0</td>\n",
       "    </tr>\n",
       "    <tr>\n",
       "      <th>6</th>\n",
       "      <td>Coronavirus</td>\n",
       "      <td>231.0</td>\n",
       "      <td>562.0</td>\n",
       "      <td>113.0</td>\n",
       "      <td>118.0</td>\n",
       "      <td>0.0</td>\n",
       "      <td>14.0</td>\n",
       "      <td>470.0</td>\n",
       "      <td>231.0</td>\n",
       "    </tr>\n",
       "    <tr>\n",
       "      <th>7</th>\n",
       "      <td>Cáñamo</td>\n",
       "      <td>328.0</td>\n",
       "      <td>1298.0</td>\n",
       "      <td>149.0</td>\n",
       "      <td>180.0</td>\n",
       "      <td>1.0</td>\n",
       "      <td>70.0</td>\n",
       "      <td>406.0</td>\n",
       "      <td>330.0</td>\n",
       "    </tr>\n",
       "    <tr>\n",
       "      <th>8</th>\n",
       "      <td>Fragmentos</td>\n",
       "      <td>24.0</td>\n",
       "      <td>524.0</td>\n",
       "      <td>18.0</td>\n",
       "      <td>6.0</td>\n",
       "      <td>0.0</td>\n",
       "      <td>11.0</td>\n",
       "      <td>20.0</td>\n",
       "      <td>24.0</td>\n",
       "    </tr>\n",
       "    <tr>\n",
       "      <th>9</th>\n",
       "      <td>FÓSILES</td>\n",
       "      <td>134.0</td>\n",
       "      <td>1536.0</td>\n",
       "      <td>64.0</td>\n",
       "      <td>70.0</td>\n",
       "      <td>0.0</td>\n",
       "      <td>22.0</td>\n",
       "      <td>405.0</td>\n",
       "      <td>134.0</td>\n",
       "    </tr>\n",
       "    <tr>\n",
       "      <th>10</th>\n",
       "      <td>Galicia</td>\n",
       "      <td>178.0</td>\n",
       "      <td>5230.0</td>\n",
       "      <td>87.0</td>\n",
       "      <td>91.0</td>\n",
       "      <td>3.0</td>\n",
       "      <td>41.0</td>\n",
       "      <td>346.0</td>\n",
       "      <td>181.0</td>\n",
       "    </tr>\n",
       "    <tr>\n",
       "      <th>11</th>\n",
       "      <td>Hemeroteca</td>\n",
       "      <td>678.0</td>\n",
       "      <td>3141.0</td>\n",
       "      <td>268.0</td>\n",
       "      <td>409.0</td>\n",
       "      <td>14.0</td>\n",
       "      <td>104.0</td>\n",
       "      <td>558.0</td>\n",
       "      <td>692.0</td>\n",
       "    </tr>\n",
       "    <tr>\n",
       "      <th>12</th>\n",
       "      <td>Historia</td>\n",
       "      <td>102.0</td>\n",
       "      <td>742.0</td>\n",
       "      <td>65.0</td>\n",
       "      <td>37.0</td>\n",
       "      <td>3.0</td>\n",
       "      <td>17.0</td>\n",
       "      <td>667.0</td>\n",
       "      <td>105.0</td>\n",
       "    </tr>\n",
       "    <tr>\n",
       "      <th>13</th>\n",
       "      <td>INTERNAC</td>\n",
       "      <td>117.0</td>\n",
       "      <td>1619.0</td>\n",
       "      <td>69.0</td>\n",
       "      <td>48.0</td>\n",
       "      <td>3.0</td>\n",
       "      <td>135.0</td>\n",
       "      <td>440.0</td>\n",
       "      <td>120.0</td>\n",
       "    </tr>\n",
       "    <tr>\n",
       "      <th>14</th>\n",
       "      <td>Idiocracia</td>\n",
       "      <td>300.0</td>\n",
       "      <td>3227.0</td>\n",
       "      <td>148.0</td>\n",
       "      <td>152.0</td>\n",
       "      <td>6.0</td>\n",
       "      <td>240.0</td>\n",
       "      <td>441.0</td>\n",
       "      <td>306.0</td>\n",
       "    </tr>\n",
       "    <tr>\n",
       "      <th>15</th>\n",
       "      <td>MAmbiente</td>\n",
       "      <td>505.0</td>\n",
       "      <td>4544.0</td>\n",
       "      <td>200.0</td>\n",
       "      <td>305.0</td>\n",
       "      <td>1.0</td>\n",
       "      <td>67.0</td>\n",
       "      <td>458.0</td>\n",
       "      <td>506.0</td>\n",
       "    </tr>\n",
       "    <tr>\n",
       "      <th>16</th>\n",
       "      <td>Memeneame</td>\n",
       "      <td>132.0</td>\n",
       "      <td>2704.0</td>\n",
       "      <td>93.0</td>\n",
       "      <td>39.0</td>\n",
       "      <td>5.0</td>\n",
       "      <td>34.0</td>\n",
       "      <td>384.0</td>\n",
       "      <td>137.0</td>\n",
       "    </tr>\n",
       "    <tr>\n",
       "      <th>17</th>\n",
       "      <td>MundoCelta</td>\n",
       "      <td>181.0</td>\n",
       "      <td>902.0</td>\n",
       "      <td>105.0</td>\n",
       "      <td>76.0</td>\n",
       "      <td>2.0</td>\n",
       "      <td>26.0</td>\n",
       "      <td>316.0</td>\n",
       "      <td>183.0</td>\n",
       "    </tr>\n",
       "    <tr>\n",
       "      <th>18</th>\n",
       "      <td>Numismática</td>\n",
       "      <td>118.0</td>\n",
       "      <td>1406.0</td>\n",
       "      <td>64.0</td>\n",
       "      <td>53.0</td>\n",
       "      <td>1.0</td>\n",
       "      <td>16.0</td>\n",
       "      <td>393.0</td>\n",
       "      <td>118.0</td>\n",
       "    </tr>\n",
       "    <tr>\n",
       "      <th>19</th>\n",
       "      <td>OYOYOY</td>\n",
       "      <td>266.0</td>\n",
       "      <td>6625.0</td>\n",
       "      <td>137.0</td>\n",
       "      <td>129.0</td>\n",
       "      <td>17.0</td>\n",
       "      <td>53.0</td>\n",
       "      <td>453.0</td>\n",
       "      <td>284.0</td>\n",
       "    </tr>\n",
       "    <tr>\n",
       "      <th>20</th>\n",
       "      <td>Pregúntame</td>\n",
       "      <td>243.0</td>\n",
       "      <td>6130.0</td>\n",
       "      <td>147.0</td>\n",
       "      <td>96.0</td>\n",
       "      <td>4.0</td>\n",
       "      <td>316.0</td>\n",
       "      <td>429.0</td>\n",
       "      <td>247.0</td>\n",
       "    </tr>\n",
       "    <tr>\n",
       "      <th>21</th>\n",
       "      <td>Roma</td>\n",
       "      <td>170.0</td>\n",
       "      <td>2510.0</td>\n",
       "      <td>83.0</td>\n",
       "      <td>87.0</td>\n",
       "      <td>1.0</td>\n",
       "      <td>25.0</td>\n",
       "      <td>464.0</td>\n",
       "      <td>171.0</td>\n",
       "    </tr>\n",
       "    <tr>\n",
       "      <th>22</th>\n",
       "      <td>Sucesos</td>\n",
       "      <td>280.0</td>\n",
       "      <td>4395.0</td>\n",
       "      <td>142.0</td>\n",
       "      <td>138.0</td>\n",
       "      <td>8.0</td>\n",
       "      <td>122.0</td>\n",
       "      <td>446.0</td>\n",
       "      <td>287.0</td>\n",
       "    </tr>\n",
       "    <tr>\n",
       "      <th>23</th>\n",
       "      <td>TEMAZOS</td>\n",
       "      <td>250.0</td>\n",
       "      <td>1150.0</td>\n",
       "      <td>107.0</td>\n",
       "      <td>143.0</td>\n",
       "      <td>21.0</td>\n",
       "      <td>36.0</td>\n",
       "      <td>366.0</td>\n",
       "      <td>271.0</td>\n",
       "    </tr>\n",
       "    <tr>\n",
       "      <th>24</th>\n",
       "      <td>Videojuegos</td>\n",
       "      <td>150.0</td>\n",
       "      <td>2824.0</td>\n",
       "      <td>79.0</td>\n",
       "      <td>71.0</td>\n",
       "      <td>3.0</td>\n",
       "      <td>84.0</td>\n",
       "      <td>379.0</td>\n",
       "      <td>153.0</td>\n",
       "    </tr>\n",
       "    <tr>\n",
       "      <th>25</th>\n",
       "      <td>Vivienda</td>\n",
       "      <td>610.0</td>\n",
       "      <td>692.0</td>\n",
       "      <td>232.0</td>\n",
       "      <td>378.0</td>\n",
       "      <td>11.0</td>\n",
       "      <td>111.0</td>\n",
       "      <td>311.0</td>\n",
       "      <td>621.0</td>\n",
       "    </tr>\n",
       "    <tr>\n",
       "      <th>26</th>\n",
       "      <td>actualidad</td>\n",
       "      <td>439.0</td>\n",
       "      <td>2618.0</td>\n",
       "      <td>182.0</td>\n",
       "      <td>257.0</td>\n",
       "      <td>5.0</td>\n",
       "      <td>108.0</td>\n",
       "      <td>437.0</td>\n",
       "      <td>444.0</td>\n",
       "    </tr>\n",
       "    <tr>\n",
       "      <th>27</th>\n",
       "      <td>aviones</td>\n",
       "      <td>232.0</td>\n",
       "      <td>1749.0</td>\n",
       "      <td>112.0</td>\n",
       "      <td>121.0</td>\n",
       "      <td>0.0</td>\n",
       "      <td>38.0</td>\n",
       "      <td>418.0</td>\n",
       "      <td>233.0</td>\n",
       "    </tr>\n",
       "    <tr>\n",
       "      <th>28</th>\n",
       "      <td>borbones</td>\n",
       "      <td>284.0</td>\n",
       "      <td>2829.0</td>\n",
       "      <td>110.0</td>\n",
       "      <td>174.0</td>\n",
       "      <td>21.0</td>\n",
       "      <td>103.0</td>\n",
       "      <td>357.0</td>\n",
       "      <td>305.0</td>\n",
       "    </tr>\n",
       "    <tr>\n",
       "      <th>29</th>\n",
       "      <td>cervecéame</td>\n",
       "      <td>130.0</td>\n",
       "      <td>1107.0</td>\n",
       "      <td>77.0</td>\n",
       "      <td>53.0</td>\n",
       "      <td>0.0</td>\n",
       "      <td>171.0</td>\n",
       "      <td>543.0</td>\n",
       "      <td>130.0</td>\n",
       "    </tr>\n",
       "    <tr>\n",
       "      <th>30</th>\n",
       "      <td>ciencia</td>\n",
       "      <td>251.0</td>\n",
       "      <td>2825.0</td>\n",
       "      <td>116.0</td>\n",
       "      <td>135.0</td>\n",
       "      <td>2.0</td>\n",
       "      <td>63.0</td>\n",
       "      <td>420.0</td>\n",
       "      <td>253.0</td>\n",
       "    </tr>\n",
       "    <tr>\n",
       "      <th>31</th>\n",
       "      <td>cultura</td>\n",
       "      <td>214.0</td>\n",
       "      <td>2782.0</td>\n",
       "      <td>102.0</td>\n",
       "      <td>112.0</td>\n",
       "      <td>3.0</td>\n",
       "      <td>50.0</td>\n",
       "      <td>430.0</td>\n",
       "      <td>217.0</td>\n",
       "    </tr>\n",
       "    <tr>\n",
       "      <th>32</th>\n",
       "      <td>laicismo</td>\n",
       "      <td>198.0</td>\n",
       "      <td>4582.0</td>\n",
       "      <td>98.0</td>\n",
       "      <td>100.0</td>\n",
       "      <td>4.0</td>\n",
       "      <td>28.0</td>\n",
       "      <td>330.0</td>\n",
       "      <td>202.0</td>\n",
       "    </tr>\n",
       "    <tr>\n",
       "      <th>33</th>\n",
       "      <td>metal</td>\n",
       "      <td>185.0</td>\n",
       "      <td>1804.0</td>\n",
       "      <td>98.0</td>\n",
       "      <td>87.0</td>\n",
       "      <td>3.0</td>\n",
       "      <td>48.0</td>\n",
       "      <td>412.0</td>\n",
       "      <td>188.0</td>\n",
       "    </tr>\n",
       "    <tr>\n",
       "      <th>34</th>\n",
       "      <td>mnm</td>\n",
       "      <td>372.0</td>\n",
       "      <td>3168.0</td>\n",
       "      <td>145.0</td>\n",
       "      <td>227.0</td>\n",
       "      <td>3.0</td>\n",
       "      <td>72.0</td>\n",
       "      <td>404.0</td>\n",
       "      <td>375.0</td>\n",
       "    </tr>\n",
       "    <tr>\n",
       "      <th>35</th>\n",
       "      <td>movilidad</td>\n",
       "      <td>406.0</td>\n",
       "      <td>1175.0</td>\n",
       "      <td>140.0</td>\n",
       "      <td>266.0</td>\n",
       "      <td>2.0</td>\n",
       "      <td>61.0</td>\n",
       "      <td>325.0</td>\n",
       "      <td>408.0</td>\n",
       "    </tr>\n",
       "    <tr>\n",
       "      <th>36</th>\n",
       "      <td>ocio</td>\n",
       "      <td>286.0</td>\n",
       "      <td>4331.0</td>\n",
       "      <td>136.0</td>\n",
       "      <td>149.0</td>\n",
       "      <td>7.0</td>\n",
       "      <td>61.0</td>\n",
       "      <td>436.0</td>\n",
       "      <td>292.0</td>\n",
       "    </tr>\n",
       "    <tr>\n",
       "      <th>37</th>\n",
       "      <td>opinion</td>\n",
       "      <td>401.0</td>\n",
       "      <td>6049.0</td>\n",
       "      <td>193.0</td>\n",
       "      <td>208.0</td>\n",
       "      <td>9.0</td>\n",
       "      <td>189.0</td>\n",
       "      <td>394.0</td>\n",
       "      <td>410.0</td>\n",
       "    </tr>\n",
       "    <tr>\n",
       "      <th>38</th>\n",
       "      <td>paléame</td>\n",
       "      <td>145.0</td>\n",
       "      <td>2096.0</td>\n",
       "      <td>72.0</td>\n",
       "      <td>73.0</td>\n",
       "      <td>1.0</td>\n",
       "      <td>32.0</td>\n",
       "      <td>370.0</td>\n",
       "      <td>146.0</td>\n",
       "    </tr>\n",
       "    <tr>\n",
       "      <th>39</th>\n",
       "      <td>podríame</td>\n",
       "      <td>208.0</td>\n",
       "      <td>964.0</td>\n",
       "      <td>89.0</td>\n",
       "      <td>120.0</td>\n",
       "      <td>0.0</td>\n",
       "      <td>42.0</td>\n",
       "      <td>379.0</td>\n",
       "      <td>208.0</td>\n",
       "    </tr>\n",
       "    <tr>\n",
       "      <th>40</th>\n",
       "      <td>politica</td>\n",
       "      <td>518.0</td>\n",
       "      <td>2340.0</td>\n",
       "      <td>205.0</td>\n",
       "      <td>313.0</td>\n",
       "      <td>7.0</td>\n",
       "      <td>102.0</td>\n",
       "      <td>430.0</td>\n",
       "      <td>525.0</td>\n",
       "    </tr>\n",
       "    <tr>\n",
       "      <th>41</th>\n",
       "      <td>roleros</td>\n",
       "      <td>159.0</td>\n",
       "      <td>2308.0</td>\n",
       "      <td>97.0</td>\n",
       "      <td>62.0</td>\n",
       "      <td>0.0</td>\n",
       "      <td>68.0</td>\n",
       "      <td>390.0</td>\n",
       "      <td>159.0</td>\n",
       "    </tr>\n",
       "    <tr>\n",
       "      <th>42</th>\n",
       "      <td>sequía</td>\n",
       "      <td>445.0</td>\n",
       "      <td>2085.0</td>\n",
       "      <td>168.0</td>\n",
       "      <td>277.0</td>\n",
       "      <td>3.0</td>\n",
       "      <td>87.0</td>\n",
       "      <td>452.0</td>\n",
       "      <td>448.0</td>\n",
       "    </tr>\n",
       "    <tr>\n",
       "      <th>43</th>\n",
       "      <td>tecnología</td>\n",
       "      <td>225.0</td>\n",
       "      <td>3090.0</td>\n",
       "      <td>106.0</td>\n",
       "      <td>119.0</td>\n",
       "      <td>2.0</td>\n",
       "      <td>86.0</td>\n",
       "      <td>429.0</td>\n",
       "      <td>227.0</td>\n",
       "    </tr>\n",
       "    <tr>\n",
       "      <th>44</th>\n",
       "      <td>vacúname</td>\n",
       "      <td>568.0</td>\n",
       "      <td>1124.0</td>\n",
       "      <td>243.0</td>\n",
       "      <td>326.0</td>\n",
       "      <td>2.0</td>\n",
       "      <td>86.0</td>\n",
       "      <td>622.0</td>\n",
       "      <td>570.0</td>\n",
       "    </tr>\n",
       "  </tbody>\n",
       "</table>\n",
       "</div>"
      ],
      "text/plain": [
       "       Comunidad  Meneos  Clicks  Positivos  Anonimos  Negativos  Comentarios  \\\n",
       "0   Abuso_Animal   416.0  4852.0      196.0     219.0        2.0         63.0   \n",
       "1      Artículos   376.0  4132.0      181.0     195.0        6.0         95.0   \n",
       "2       Botánica   205.0  5648.0      100.0     106.0        6.0         36.0   \n",
       "3          Bulos   737.0  3543.0      288.0     449.0       14.0         81.0   \n",
       "4   CastillaLeón   186.0  1879.0       89.0      97.0        0.0         16.0   \n",
       "5   Chorridolias   234.0  3132.0      133.0     101.0        0.0         23.0   \n",
       "6    Coronavirus   231.0   562.0      113.0     118.0        0.0         14.0   \n",
       "7         Cáñamo   328.0  1298.0      149.0     180.0        1.0         70.0   \n",
       "8     Fragmentos    24.0   524.0       18.0       6.0        0.0         11.0   \n",
       "9        FÓSILES   134.0  1536.0       64.0      70.0        0.0         22.0   \n",
       "10       Galicia   178.0  5230.0       87.0      91.0        3.0         41.0   \n",
       "11    Hemeroteca   678.0  3141.0      268.0     409.0       14.0        104.0   \n",
       "12      Historia   102.0   742.0       65.0      37.0        3.0         17.0   \n",
       "13      INTERNAC   117.0  1619.0       69.0      48.0        3.0        135.0   \n",
       "14    Idiocracia   300.0  3227.0      148.0     152.0        6.0        240.0   \n",
       "15     MAmbiente   505.0  4544.0      200.0     305.0        1.0         67.0   \n",
       "16     Memeneame   132.0  2704.0       93.0      39.0        5.0         34.0   \n",
       "17    MundoCelta   181.0   902.0      105.0      76.0        2.0         26.0   \n",
       "18   Numismática   118.0  1406.0       64.0      53.0        1.0         16.0   \n",
       "19        OYOYOY   266.0  6625.0      137.0     129.0       17.0         53.0   \n",
       "20    Pregúntame   243.0  6130.0      147.0      96.0        4.0        316.0   \n",
       "21          Roma   170.0  2510.0       83.0      87.0        1.0         25.0   \n",
       "22       Sucesos   280.0  4395.0      142.0     138.0        8.0        122.0   \n",
       "23       TEMAZOS   250.0  1150.0      107.0     143.0       21.0         36.0   \n",
       "24   Videojuegos   150.0  2824.0       79.0      71.0        3.0         84.0   \n",
       "25      Vivienda   610.0   692.0      232.0     378.0       11.0        111.0   \n",
       "26    actualidad   439.0  2618.0      182.0     257.0        5.0        108.0   \n",
       "27       aviones   232.0  1749.0      112.0     121.0        0.0         38.0   \n",
       "28      borbones   284.0  2829.0      110.0     174.0       21.0        103.0   \n",
       "29    cervecéame   130.0  1107.0       77.0      53.0        0.0        171.0   \n",
       "30       ciencia   251.0  2825.0      116.0     135.0        2.0         63.0   \n",
       "31       cultura   214.0  2782.0      102.0     112.0        3.0         50.0   \n",
       "32      laicismo   198.0  4582.0       98.0     100.0        4.0         28.0   \n",
       "33         metal   185.0  1804.0       98.0      87.0        3.0         48.0   \n",
       "34           mnm   372.0  3168.0      145.0     227.0        3.0         72.0   \n",
       "35     movilidad   406.0  1175.0      140.0     266.0        2.0         61.0   \n",
       "36          ocio   286.0  4331.0      136.0     149.0        7.0         61.0   \n",
       "37       opinion   401.0  6049.0      193.0     208.0        9.0        189.0   \n",
       "38       paléame   145.0  2096.0       72.0      73.0        1.0         32.0   \n",
       "39      podríame   208.0   964.0       89.0     120.0        0.0         42.0   \n",
       "40      politica   518.0  2340.0      205.0     313.0        7.0        102.0   \n",
       "41       roleros   159.0  2308.0       97.0      62.0        0.0         68.0   \n",
       "42        sequía   445.0  2085.0      168.0     277.0        3.0         87.0   \n",
       "43    tecnología   225.0  3090.0      106.0     119.0        2.0         86.0   \n",
       "44      vacúname   568.0  1124.0      243.0     326.0        2.0         86.0   \n",
       "\n",
       "    Karma  Votos  \n",
       "0   416.0  418.0  \n",
       "1   392.0  382.0  \n",
       "2   430.0  211.0  \n",
       "3   477.0  751.0  \n",
       "4   323.0  186.0  \n",
       "5   438.0  234.0  \n",
       "6   470.0  231.0  \n",
       "7   406.0  330.0  \n",
       "8    20.0   24.0  \n",
       "9   405.0  134.0  \n",
       "10  346.0  181.0  \n",
       "11  558.0  692.0  \n",
       "12  667.0  105.0  \n",
       "13  440.0  120.0  \n",
       "14  441.0  306.0  \n",
       "15  458.0  506.0  \n",
       "16  384.0  137.0  \n",
       "17  316.0  183.0  \n",
       "18  393.0  118.0  \n",
       "19  453.0  284.0  \n",
       "20  429.0  247.0  \n",
       "21  464.0  171.0  \n",
       "22  446.0  287.0  \n",
       "23  366.0  271.0  \n",
       "24  379.0  153.0  \n",
       "25  311.0  621.0  \n",
       "26  437.0  444.0  \n",
       "27  418.0  233.0  \n",
       "28  357.0  305.0  \n",
       "29  543.0  130.0  \n",
       "30  420.0  253.0  \n",
       "31  430.0  217.0  \n",
       "32  330.0  202.0  \n",
       "33  412.0  188.0  \n",
       "34  404.0  375.0  \n",
       "35  325.0  408.0  \n",
       "36  436.0  292.0  \n",
       "37  394.0  410.0  \n",
       "38  370.0  146.0  \n",
       "39  379.0  208.0  \n",
       "40  430.0  525.0  \n",
       "41  390.0  159.0  \n",
       "42  452.0  448.0  \n",
       "43  429.0  227.0  \n",
       "44  622.0  570.0  "
      ]
     },
     "execution_count": 41,
     "metadata": {},
     "output_type": "execute_result"
    }
   ],
   "source": [
    "df = pd.read_csv(\"Data/meneame2023.csv\", sep=\";\")\n",
    "df.head()\n",
    "df_interactividad = df.drop([\"Titular\",\"Entradilla\", \"Usuario\", \"Medio\", \"URL\", \"Enviado\", \"Publicado\", \"Delay\", \"Franja Horaria\", \"Día de la Semana\", \"Mes\", \"Trimestre\", \"Municipio\", \"Provincia\", \"Longitud\", \"Latitud\"], axis = 1)\n",
    "df_interactividad[\"Votos\"]= df_interactividad[\"Positivos\"] +df_interactividad[\"Anonimos\"] + df_interactividad[\"Negativos\"]\n",
    "df_interactividad = df_interactividad.groupby(\"Comunidad\", as_index = False).mean().round()\n",
    "df_interactividad"
   ]
  },
  {
   "cell_type": "code",
   "execution_count": 104,
   "metadata": {},
   "outputs": [
    {
     "data": {
      "application/vnd.plotly.v1+json": {
       "config": {
        "plotlyServerURL": "https://plot.ly"
       },
       "data": [
        {
         "name": "Clicks",
         "type": "bar",
         "x": [
          "Abuso_Animal",
          "Artículos",
          "Botánica",
          "Bulos",
          "CastillaLeón",
          "Chorridolias",
          "Coronavirus",
          "Cáñamo",
          "Fragmentos",
          "FÓSILES",
          "Galicia",
          "Hemeroteca",
          "Historia",
          "INTERNAC",
          "Idiocracia",
          "MAmbiente",
          "Memeneame",
          "MundoCelta",
          "Numismática",
          "OYOYOY",
          "Pregúntame",
          "Roma",
          "Sucesos",
          "TEMAZOS",
          "Videojuegos",
          "Vivienda",
          "actualidad",
          "aviones",
          "borbones",
          "cervecéame",
          "ciencia",
          "cultura",
          "laicismo",
          "metal",
          "mnm",
          "movilidad",
          "ocio",
          "opinion",
          "paléame",
          "podríame",
          "politica",
          "roleros",
          "sequía",
          "tecnología",
          "vacúname"
         ],
         "y": [
          4852,
          4132,
          5648,
          3543,
          1879,
          3132,
          562,
          1298,
          524,
          1536,
          5230,
          3141,
          742,
          1619,
          3227,
          4544,
          2704,
          902,
          1406,
          6625,
          6130,
          2510,
          4395,
          1150,
          2824,
          692,
          2618,
          1749,
          2829,
          1107,
          2825,
          2782,
          4582,
          1804,
          3168,
          1175,
          4331,
          6049,
          2096,
          964,
          2340,
          2308,
          2085,
          3090,
          1124
         ]
        },
        {
         "name": "Votos",
         "type": "bar",
         "x": [
          "Abuso_Animal",
          "Artículos",
          "Botánica",
          "Bulos",
          "CastillaLeón",
          "Chorridolias",
          "Coronavirus",
          "Cáñamo",
          "Fragmentos",
          "FÓSILES",
          "Galicia",
          "Hemeroteca",
          "Historia",
          "INTERNAC",
          "Idiocracia",
          "MAmbiente",
          "Memeneame",
          "MundoCelta",
          "Numismática",
          "OYOYOY",
          "Pregúntame",
          "Roma",
          "Sucesos",
          "TEMAZOS",
          "Videojuegos",
          "Vivienda",
          "actualidad",
          "aviones",
          "borbones",
          "cervecéame",
          "ciencia",
          "cultura",
          "laicismo",
          "metal",
          "mnm",
          "movilidad",
          "ocio",
          "opinion",
          "paléame",
          "podríame",
          "politica",
          "roleros",
          "sequía",
          "tecnología",
          "vacúname"
         ],
         "y": [
          418,
          382,
          211,
          751,
          186,
          234,
          231,
          330,
          24,
          134,
          181,
          692,
          105,
          120,
          306,
          506,
          137,
          183,
          118,
          284,
          247,
          171,
          287,
          271,
          153,
          621,
          444,
          233,
          305,
          130,
          253,
          217,
          202,
          188,
          375,
          408,
          292,
          410,
          146,
          208,
          525,
          159,
          448,
          227,
          570
         ]
        },
        {
         "name": "Comentarios",
         "type": "bar",
         "x": [
          "Abuso_Animal",
          "Artículos",
          "Botánica",
          "Bulos",
          "CastillaLeón",
          "Chorridolias",
          "Coronavirus",
          "Cáñamo",
          "Fragmentos",
          "FÓSILES",
          "Galicia",
          "Hemeroteca",
          "Historia",
          "INTERNAC",
          "Idiocracia",
          "MAmbiente",
          "Memeneame",
          "MundoCelta",
          "Numismática",
          "OYOYOY",
          "Pregúntame",
          "Roma",
          "Sucesos",
          "TEMAZOS",
          "Videojuegos",
          "Vivienda",
          "actualidad",
          "aviones",
          "borbones",
          "cervecéame",
          "ciencia",
          "cultura",
          "laicismo",
          "metal",
          "mnm",
          "movilidad",
          "ocio",
          "opinion",
          "paléame",
          "podríame",
          "politica",
          "roleros",
          "sequía",
          "tecnología",
          "vacúname"
         ],
         "y": [
          63,
          95,
          36,
          81,
          16,
          23,
          14,
          70,
          11,
          22,
          41,
          104,
          17,
          135,
          240,
          67,
          34,
          26,
          16,
          53,
          316,
          25,
          122,
          36,
          84,
          111,
          108,
          38,
          103,
          171,
          63,
          50,
          28,
          48,
          72,
          61,
          61,
          189,
          32,
          42,
          102,
          68,
          87,
          86,
          86
         ]
        },
        {
         "name": "Karma",
         "type": "bar",
         "x": [
          "Abuso_Animal",
          "Artículos",
          "Botánica",
          "Bulos",
          "CastillaLeón",
          "Chorridolias",
          "Coronavirus",
          "Cáñamo",
          "Fragmentos",
          "FÓSILES",
          "Galicia",
          "Hemeroteca",
          "Historia",
          "INTERNAC",
          "Idiocracia",
          "MAmbiente",
          "Memeneame",
          "MundoCelta",
          "Numismática",
          "OYOYOY",
          "Pregúntame",
          "Roma",
          "Sucesos",
          "TEMAZOS",
          "Videojuegos",
          "Vivienda",
          "actualidad",
          "aviones",
          "borbones",
          "cervecéame",
          "ciencia",
          "cultura",
          "laicismo",
          "metal",
          "mnm",
          "movilidad",
          "ocio",
          "opinion",
          "paléame",
          "podríame",
          "politica",
          "roleros",
          "sequía",
          "tecnología",
          "vacúname"
         ],
         "y": [
          416,
          392,
          430,
          477,
          323,
          438,
          470,
          406,
          20,
          405,
          346,
          558,
          667,
          440,
          441,
          458,
          384,
          316,
          393,
          453,
          429,
          464,
          446,
          366,
          379,
          311,
          437,
          418,
          357,
          543,
          420,
          430,
          330,
          412,
          404,
          325,
          436,
          394,
          370,
          379,
          430,
          390,
          452,
          429,
          622
         ]
        }
       ],
       "layout": {
        "template": {
         "data": {
          "bar": [
           {
            "error_x": {
             "color": "#2a3f5f"
            },
            "error_y": {
             "color": "#2a3f5f"
            },
            "marker": {
             "line": {
              "color": "#E5ECF6",
              "width": 0.5
             },
             "pattern": {
              "fillmode": "overlay",
              "size": 10,
              "solidity": 0.2
             }
            },
            "type": "bar"
           }
          ],
          "barpolar": [
           {
            "marker": {
             "line": {
              "color": "#E5ECF6",
              "width": 0.5
             },
             "pattern": {
              "fillmode": "overlay",
              "size": 10,
              "solidity": 0.2
             }
            },
            "type": "barpolar"
           }
          ],
          "carpet": [
           {
            "aaxis": {
             "endlinecolor": "#2a3f5f",
             "gridcolor": "white",
             "linecolor": "white",
             "minorgridcolor": "white",
             "startlinecolor": "#2a3f5f"
            },
            "baxis": {
             "endlinecolor": "#2a3f5f",
             "gridcolor": "white",
             "linecolor": "white",
             "minorgridcolor": "white",
             "startlinecolor": "#2a3f5f"
            },
            "type": "carpet"
           }
          ],
          "choropleth": [
           {
            "colorbar": {
             "outlinewidth": 0,
             "ticks": ""
            },
            "type": "choropleth"
           }
          ],
          "contour": [
           {
            "colorbar": {
             "outlinewidth": 0,
             "ticks": ""
            },
            "colorscale": [
             [
              0,
              "#0d0887"
             ],
             [
              0.1111111111111111,
              "#46039f"
             ],
             [
              0.2222222222222222,
              "#7201a8"
             ],
             [
              0.3333333333333333,
              "#9c179e"
             ],
             [
              0.4444444444444444,
              "#bd3786"
             ],
             [
              0.5555555555555556,
              "#d8576b"
             ],
             [
              0.6666666666666666,
              "#ed7953"
             ],
             [
              0.7777777777777778,
              "#fb9f3a"
             ],
             [
              0.8888888888888888,
              "#fdca26"
             ],
             [
              1,
              "#f0f921"
             ]
            ],
            "type": "contour"
           }
          ],
          "contourcarpet": [
           {
            "colorbar": {
             "outlinewidth": 0,
             "ticks": ""
            },
            "type": "contourcarpet"
           }
          ],
          "heatmap": [
           {
            "colorbar": {
             "outlinewidth": 0,
             "ticks": ""
            },
            "colorscale": [
             [
              0,
              "#0d0887"
             ],
             [
              0.1111111111111111,
              "#46039f"
             ],
             [
              0.2222222222222222,
              "#7201a8"
             ],
             [
              0.3333333333333333,
              "#9c179e"
             ],
             [
              0.4444444444444444,
              "#bd3786"
             ],
             [
              0.5555555555555556,
              "#d8576b"
             ],
             [
              0.6666666666666666,
              "#ed7953"
             ],
             [
              0.7777777777777778,
              "#fb9f3a"
             ],
             [
              0.8888888888888888,
              "#fdca26"
             ],
             [
              1,
              "#f0f921"
             ]
            ],
            "type": "heatmap"
           }
          ],
          "heatmapgl": [
           {
            "colorbar": {
             "outlinewidth": 0,
             "ticks": ""
            },
            "colorscale": [
             [
              0,
              "#0d0887"
             ],
             [
              0.1111111111111111,
              "#46039f"
             ],
             [
              0.2222222222222222,
              "#7201a8"
             ],
             [
              0.3333333333333333,
              "#9c179e"
             ],
             [
              0.4444444444444444,
              "#bd3786"
             ],
             [
              0.5555555555555556,
              "#d8576b"
             ],
             [
              0.6666666666666666,
              "#ed7953"
             ],
             [
              0.7777777777777778,
              "#fb9f3a"
             ],
             [
              0.8888888888888888,
              "#fdca26"
             ],
             [
              1,
              "#f0f921"
             ]
            ],
            "type": "heatmapgl"
           }
          ],
          "histogram": [
           {
            "marker": {
             "pattern": {
              "fillmode": "overlay",
              "size": 10,
              "solidity": 0.2
             }
            },
            "type": "histogram"
           }
          ],
          "histogram2d": [
           {
            "colorbar": {
             "outlinewidth": 0,
             "ticks": ""
            },
            "colorscale": [
             [
              0,
              "#0d0887"
             ],
             [
              0.1111111111111111,
              "#46039f"
             ],
             [
              0.2222222222222222,
              "#7201a8"
             ],
             [
              0.3333333333333333,
              "#9c179e"
             ],
             [
              0.4444444444444444,
              "#bd3786"
             ],
             [
              0.5555555555555556,
              "#d8576b"
             ],
             [
              0.6666666666666666,
              "#ed7953"
             ],
             [
              0.7777777777777778,
              "#fb9f3a"
             ],
             [
              0.8888888888888888,
              "#fdca26"
             ],
             [
              1,
              "#f0f921"
             ]
            ],
            "type": "histogram2d"
           }
          ],
          "histogram2dcontour": [
           {
            "colorbar": {
             "outlinewidth": 0,
             "ticks": ""
            },
            "colorscale": [
             [
              0,
              "#0d0887"
             ],
             [
              0.1111111111111111,
              "#46039f"
             ],
             [
              0.2222222222222222,
              "#7201a8"
             ],
             [
              0.3333333333333333,
              "#9c179e"
             ],
             [
              0.4444444444444444,
              "#bd3786"
             ],
             [
              0.5555555555555556,
              "#d8576b"
             ],
             [
              0.6666666666666666,
              "#ed7953"
             ],
             [
              0.7777777777777778,
              "#fb9f3a"
             ],
             [
              0.8888888888888888,
              "#fdca26"
             ],
             [
              1,
              "#f0f921"
             ]
            ],
            "type": "histogram2dcontour"
           }
          ],
          "mesh3d": [
           {
            "colorbar": {
             "outlinewidth": 0,
             "ticks": ""
            },
            "type": "mesh3d"
           }
          ],
          "parcoords": [
           {
            "line": {
             "colorbar": {
              "outlinewidth": 0,
              "ticks": ""
             }
            },
            "type": "parcoords"
           }
          ],
          "pie": [
           {
            "automargin": true,
            "type": "pie"
           }
          ],
          "scatter": [
           {
            "fillpattern": {
             "fillmode": "overlay",
             "size": 10,
             "solidity": 0.2
            },
            "type": "scatter"
           }
          ],
          "scatter3d": [
           {
            "line": {
             "colorbar": {
              "outlinewidth": 0,
              "ticks": ""
             }
            },
            "marker": {
             "colorbar": {
              "outlinewidth": 0,
              "ticks": ""
             }
            },
            "type": "scatter3d"
           }
          ],
          "scattercarpet": [
           {
            "marker": {
             "colorbar": {
              "outlinewidth": 0,
              "ticks": ""
             }
            },
            "type": "scattercarpet"
           }
          ],
          "scattergeo": [
           {
            "marker": {
             "colorbar": {
              "outlinewidth": 0,
              "ticks": ""
             }
            },
            "type": "scattergeo"
           }
          ],
          "scattergl": [
           {
            "marker": {
             "colorbar": {
              "outlinewidth": 0,
              "ticks": ""
             }
            },
            "type": "scattergl"
           }
          ],
          "scattermapbox": [
           {
            "marker": {
             "colorbar": {
              "outlinewidth": 0,
              "ticks": ""
             }
            },
            "type": "scattermapbox"
           }
          ],
          "scatterpolar": [
           {
            "marker": {
             "colorbar": {
              "outlinewidth": 0,
              "ticks": ""
             }
            },
            "type": "scatterpolar"
           }
          ],
          "scatterpolargl": [
           {
            "marker": {
             "colorbar": {
              "outlinewidth": 0,
              "ticks": ""
             }
            },
            "type": "scatterpolargl"
           }
          ],
          "scatterternary": [
           {
            "marker": {
             "colorbar": {
              "outlinewidth": 0,
              "ticks": ""
             }
            },
            "type": "scatterternary"
           }
          ],
          "surface": [
           {
            "colorbar": {
             "outlinewidth": 0,
             "ticks": ""
            },
            "colorscale": [
             [
              0,
              "#0d0887"
             ],
             [
              0.1111111111111111,
              "#46039f"
             ],
             [
              0.2222222222222222,
              "#7201a8"
             ],
             [
              0.3333333333333333,
              "#9c179e"
             ],
             [
              0.4444444444444444,
              "#bd3786"
             ],
             [
              0.5555555555555556,
              "#d8576b"
             ],
             [
              0.6666666666666666,
              "#ed7953"
             ],
             [
              0.7777777777777778,
              "#fb9f3a"
             ],
             [
              0.8888888888888888,
              "#fdca26"
             ],
             [
              1,
              "#f0f921"
             ]
            ],
            "type": "surface"
           }
          ],
          "table": [
           {
            "cells": {
             "fill": {
              "color": "#EBF0F8"
             },
             "line": {
              "color": "white"
             }
            },
            "header": {
             "fill": {
              "color": "#C8D4E3"
             },
             "line": {
              "color": "white"
             }
            },
            "type": "table"
           }
          ]
         },
         "layout": {
          "annotationdefaults": {
           "arrowcolor": "#2a3f5f",
           "arrowhead": 0,
           "arrowwidth": 1
          },
          "autotypenumbers": "strict",
          "coloraxis": {
           "colorbar": {
            "outlinewidth": 0,
            "ticks": ""
           }
          },
          "colorscale": {
           "diverging": [
            [
             0,
             "#8e0152"
            ],
            [
             0.1,
             "#c51b7d"
            ],
            [
             0.2,
             "#de77ae"
            ],
            [
             0.3,
             "#f1b6da"
            ],
            [
             0.4,
             "#fde0ef"
            ],
            [
             0.5,
             "#f7f7f7"
            ],
            [
             0.6,
             "#e6f5d0"
            ],
            [
             0.7,
             "#b8e186"
            ],
            [
             0.8,
             "#7fbc41"
            ],
            [
             0.9,
             "#4d9221"
            ],
            [
             1,
             "#276419"
            ]
           ],
           "sequential": [
            [
             0,
             "#0d0887"
            ],
            [
             0.1111111111111111,
             "#46039f"
            ],
            [
             0.2222222222222222,
             "#7201a8"
            ],
            [
             0.3333333333333333,
             "#9c179e"
            ],
            [
             0.4444444444444444,
             "#bd3786"
            ],
            [
             0.5555555555555556,
             "#d8576b"
            ],
            [
             0.6666666666666666,
             "#ed7953"
            ],
            [
             0.7777777777777778,
             "#fb9f3a"
            ],
            [
             0.8888888888888888,
             "#fdca26"
            ],
            [
             1,
             "#f0f921"
            ]
           ],
           "sequentialminus": [
            [
             0,
             "#0d0887"
            ],
            [
             0.1111111111111111,
             "#46039f"
            ],
            [
             0.2222222222222222,
             "#7201a8"
            ],
            [
             0.3333333333333333,
             "#9c179e"
            ],
            [
             0.4444444444444444,
             "#bd3786"
            ],
            [
             0.5555555555555556,
             "#d8576b"
            ],
            [
             0.6666666666666666,
             "#ed7953"
            ],
            [
             0.7777777777777778,
             "#fb9f3a"
            ],
            [
             0.8888888888888888,
             "#fdca26"
            ],
            [
             1,
             "#f0f921"
            ]
           ]
          },
          "colorway": [
           "#636efa",
           "#EF553B",
           "#00cc96",
           "#ab63fa",
           "#FFA15A",
           "#19d3f3",
           "#FF6692",
           "#B6E880",
           "#FF97FF",
           "#FECB52"
          ],
          "font": {
           "color": "#2a3f5f"
          },
          "geo": {
           "bgcolor": "white",
           "lakecolor": "white",
           "landcolor": "#E5ECF6",
           "showlakes": true,
           "showland": true,
           "subunitcolor": "white"
          },
          "hoverlabel": {
           "align": "left"
          },
          "hovermode": "closest",
          "mapbox": {
           "style": "light"
          },
          "paper_bgcolor": "white",
          "plot_bgcolor": "#E5ECF6",
          "polar": {
           "angularaxis": {
            "gridcolor": "white",
            "linecolor": "white",
            "ticks": ""
           },
           "bgcolor": "#E5ECF6",
           "radialaxis": {
            "gridcolor": "white",
            "linecolor": "white",
            "ticks": ""
           }
          },
          "scene": {
           "xaxis": {
            "backgroundcolor": "#E5ECF6",
            "gridcolor": "white",
            "gridwidth": 2,
            "linecolor": "white",
            "showbackground": true,
            "ticks": "",
            "zerolinecolor": "white"
           },
           "yaxis": {
            "backgroundcolor": "#E5ECF6",
            "gridcolor": "white",
            "gridwidth": 2,
            "linecolor": "white",
            "showbackground": true,
            "ticks": "",
            "zerolinecolor": "white"
           },
           "zaxis": {
            "backgroundcolor": "#E5ECF6",
            "gridcolor": "white",
            "gridwidth": 2,
            "linecolor": "white",
            "showbackground": true,
            "ticks": "",
            "zerolinecolor": "white"
           }
          },
          "shapedefaults": {
           "line": {
            "color": "#2a3f5f"
           }
          },
          "ternary": {
           "aaxis": {
            "gridcolor": "white",
            "linecolor": "white",
            "ticks": ""
           },
           "baxis": {
            "gridcolor": "white",
            "linecolor": "white",
            "ticks": ""
           },
           "bgcolor": "#E5ECF6",
           "caxis": {
            "gridcolor": "white",
            "linecolor": "white",
            "ticks": ""
           }
          },
          "title": {
           "x": 0.05
          },
          "xaxis": {
           "automargin": true,
           "gridcolor": "white",
           "linecolor": "white",
           "ticks": "",
           "title": {
            "standoff": 15
           },
           "zerolinecolor": "white",
           "zerolinewidth": 2
          },
          "yaxis": {
           "automargin": true,
           "gridcolor": "white",
           "linecolor": "white",
           "ticks": "",
           "title": {
            "standoff": 15
           },
           "zerolinecolor": "white",
           "zerolinewidth": 2
          }
         }
        }
       }
      }
     },
     "metadata": {},
     "output_type": "display_data"
    }
   ],
   "source": [
    "import plotly.graph_objects as go\n",
    "comunidad = df_interactividad[\"Comunidad\"]\n",
    "\n",
    "\n",
    "fig = go.Figure(data=[\n",
    "    go.Bar(name='Clicks', x=comunidad, y=df_interactividad[\"Clicks\"]),\n",
    "    go.Bar(name='Votos', x=comunidad, y=df_interactividad[\"Votos\"]),\n",
    "    go.Bar(name='Comentarios', x=comunidad, y=df_interactividad[\"Comentarios\"]),\n",
    "    go.Bar(name='Karma', x=comunidad, y=df_interactividad[\"Karma\"]),\n",
    "])\n",
    "fig.show()"
   ]
  },
  {
   "cell_type": "code",
   "execution_count": null,
   "metadata": {},
   "outputs": [],
   "source": []
  },
  {
   "cell_type": "code",
   "execution_count": null,
   "metadata": {},
   "outputs": [],
   "source": []
  }
 ],
 "metadata": {
  "kernelspec": {
   "display_name": "base",
   "language": "python",
   "name": "python3"
  },
  "language_info": {
   "codemirror_mode": {
    "name": "ipython",
    "version": 3
   },
   "file_extension": ".py",
   "mimetype": "text/x-python",
   "name": "python",
   "nbconvert_exporter": "python",
   "pygments_lexer": "ipython3",
   "version": "3.11.8"
  }
 },
 "nbformat": 4,
 "nbformat_minor": 2
}
